{
  "nbformat": 4,
  "nbformat_minor": 0,
  "metadata": {
    "colab": {
      "name": "read data + fit forest ",
      "provenance": [],
      "collapsed_sections": [],
      "include_colab_link": true
    },
    "kernelspec": {
      "name": "python3",
      "display_name": "Python 3"
    }
  },
  "cells": [
    {
      "cell_type": "markdown",
      "metadata": {
        "id": "view-in-github",
        "colab_type": "text"
      },
      "source": [
        "<a href=\"https://colab.research.google.com/github/solomatt/IDT-ReEng/blob/master/Create%20Forest.ipynb\" target=\"_parent\"><img src=\"https://colab.research.google.com/assets/colab-badge.svg\" alt=\"Open In Colab\"/></a>"
      ]
    },
    {
      "cell_type": "markdown",
      "metadata": {
        "id": "0jIObqKT-lxF",
        "colab_type": "text"
      },
      "source": [
        "**Functional Implementation of Creating Optmized Random Forest**"
      ]
    },
    {
      "cell_type": "code",
      "metadata": {
        "id": "F9AeXQHBDeXD",
        "colab_type": "code",
        "colab": {}
      },
      "source": [
        "\n",
        "import sklearn\n",
        "import numpy as np\n",
        "import pandas as pd\n",
        "from sklearn.datasets import load_breast_cancer\n",
        "from sklearn.impute import SimpleImputer\n",
        "from sklearn.ensemble import RandomForestClassifier\n",
        "from sklearn.model_selection import RandomizedSearchCV\n",
        "from sklearn.model_selection import train_test_split\n",
        "from sklearn.metrics import accuracy_score\n",
        "\n",
        "#BROKEN:\n",
        "#data is your dataset (file) - how will the modeling data look when it is received?\n",
        "#target_column is the column to predict (string)\n",
        "\n",
        "#IN USE:\n",
        "#_prt: train, test, and holdout partition sizes - enter as a decimal\n",
        "#default_n_trees is the number of trees in the forest you want as a default - format integer\n",
        "#k_folds specifies number of folds in a stratified cross validation as part of the optimization of the forest - format integer\n",
        "#_list parameters: enter a list of parameters for the RandomizedSearchCV - format [1,2,etc]\n",
        "\n",
        "\n",
        "#need to re-add dataset and target class as a parameter - need help setting this up\n",
        "def create_opt_forest(tr_prt,te,prt,hd_prt, default_n_trees, n_trees_list, max_depth_list, min_samples_split_list, min_samples_leaf_list, k_folds):\n",
        "\n",
        "  #temporarily using the breast cancer dataset \n",
        "  data = load_breast_cancer()\n",
        "  label_names = data['target_names']\n",
        "  labels = data['target']\n",
        "  feature_names = data['feature_names']\n",
        "  features = data['data']\n",
        "\n",
        "\n",
        "\n",
        "  #ratio of partitions\n",
        "  train_ratio = tr_prt\n",
        "  validation_ratio = te_prt\n",
        "  test_ratio = hd_prt\n",
        "\n",
        "  #create train partition\n",
        "  x_train, x_test, y_train, y_test = train_test_split(features, labels, test_size=1 - train_ratio)\n",
        "\n",
        "  #create test and holdout partitions\n",
        "  x_test, x_holdout, y_test, y_holdout = train_test_split(x_test, y_test, test_size=test_ratio/(test_ratio + validation_ratio)) \n",
        "  #train: x_train, y_train\n",
        "  #test: x_test, y_test\n",
        "  #holdout: x_holdout,y_holdout\n",
        "\n",
        "  ##impute missing values - strategies are mean, median, mode, or some constant (RRP coalesces nulls to 0)\n",
        "  impute_nulls = SimpleImputer(missing_values=None, strategy='constant', fill_value = 0) #how will nulls look in the live dataset?\n",
        "  sets = [x_train,x_test,x_holdout] #assuming response will not have nulls\n",
        "  for set in sets:\n",
        "    set = impute_nulls.fit_transform(set)\n",
        "\n",
        "  #training the classifier\n",
        "  baseRF = RandomForestClassifier(n_estimators = 30)\n",
        "  print(\"_______________________________________________________________\")\n",
        "  print(\"The default RF Classifier has the following attributes:\")\n",
        "  print(\"Number of trees in forest: \" + str(baseRF.n_estimators))\n",
        "  print(\"Maximum depth of tree(s): \" + str(baseRF.max_depth))\n",
        "  print(\"Minimum # samples to split node: \" + str(baseRF.min_samples_split))\n",
        "  print(\"Minimum # samples to have a leaf node: \" + str(baseRF.min_samples_leaf))\n",
        "  print(\"Fitting the model...\")\n",
        "  #fit the RF classifier\n",
        "  baseRF.fit(x_train,y_train)\n",
        "  #predict the target on the holdout set\n",
        "  y_pred = baseRF.predict(x_holdout)\n",
        "  print(\"The accuracy of the default RF on the holdout set is \" + str(accuracy_score(y_holdout,y_pred)))\n",
        "\n",
        "  print(\"________________________________________________________________\")\n",
        "\n",
        "  print(\"Passing given parameters for RandomizedSearch optimization with \" + str(k_folds) + \" folds in the cross validation...\")\n",
        "  params_tune = dict(n_estimators = n_trees_list, max_depth = max_depth_list,  \n",
        "                min_samples_split = min_samples_split_list, \n",
        "                min_samples_leaf = min_samples_leaf_list)\n",
        "\n",
        "  #tune the random forest\n",
        "  tune = RandomizedSearchCV(baseRF, params_tune, cv = k_folds, verbose = 1, \n",
        "                      n_jobs = -1)\n",
        "  \n",
        "  optFit = tune.fit(x_train,y_train)\n",
        "\n",
        "  #create the optimized RF opject\n",
        "  optRF = optFit.best_estimator_\n",
        "  #predict on holdout with optimized RF model\n",
        "  y_pred_opt = optRF.predict(x_holdout)\n",
        "  print(\"_______________________________________________________________\")\n",
        "  print(\"The optimal hyperparameters for the RF on this dataset are the following:\")\n",
        "  print(\"The default RF Classifier has the following attributes:\")\n",
        "  print(\"Number of trees in forest: \" + str(optRF.n_estimators))\n",
        "  print(\"Maximum depth of tree(s): \" + str(optRF.max_depth))\n",
        "  print(\"Minimm # samples to split node: \" + str(optRF.min_samples_split))\n",
        "  print(\"Minimum # samples to have a leaf node: \" + str(optRF.min_samples_leaf))\n",
        "  print(\"Results:\")\n",
        "  print(\"The accuracy of the optimized RF on the holdout set is \" + str(accuracy_score(y_holdout,y_pred_opt)))\n",
        "  print(\"_______________________________________________________________\")\n",
        "\n",
        "  \n",
        "\n",
        "\n"
      ],
      "execution_count": 0,
      "outputs": []
    },
    {
      "cell_type": "code",
      "metadata": {
        "id": "0uS0kYNyTlSK",
        "colab_type": "code",
        "outputId": "67be22a5-16c1-4b37-c175-9a78a4d05171",
        "colab": {
          "base_uri": "https://localhost:8080/",
          "height": 462
        }
      },
      "source": [
        "create_opt_forest(100, [1,5,20,15,30,50], [1,2,5,10,20], [2,5,15,30,50], [1,3,10,15,30], 10)"
      ],
      "execution_count": 31,
      "outputs": [
        {
          "output_type": "stream",
          "text": [
            "_______________________________________________________________\n",
            "The default RF Classifier has the following attributes:\n",
            "Number of trees in forest: 30\n",
            "Maximum depth of tree(s): None\n",
            "Minimm # samples to split node: 2\n",
            "Minimum # samples to have a leaf node: 1\n",
            "Fitting the model...\n",
            "The accuracy of the default RF on the holdout set is 0.9298245614035088\n",
            "________________________________________________________________\n",
            "Passing given parameters for RandomizedSearch optimization with 10 folds in the cross validation...\n",
            "Fitting 10 folds for each of 10 candidates, totalling 100 fits\n"
          ],
          "name": "stdout"
        },
        {
          "output_type": "stream",
          "text": [
            "[Parallel(n_jobs=-1)]: Using backend LokyBackend with 2 concurrent workers.\n"
          ],
          "name": "stderr"
        },
        {
          "output_type": "stream",
          "text": [
            "_______________________________________________________________\n",
            "The optimal hyperparameters for the RF on this dataset are the following:\n",
            "The default RF Classifier has the following attributes:\n",
            "Number of trees in forest: 5\n",
            "Maximum depth of tree(s): 20\n",
            "Minimm # samples to split node: 30\n",
            "Minimum # samples to have a leaf node: 1\n",
            "Results:\n",
            "The accuracy of the optimized RF on the holdout set is 0.9473684210526315\n",
            "_______________________________________________________________\n"
          ],
          "name": "stdout"
        },
        {
          "output_type": "stream",
          "text": [
            "[Parallel(n_jobs=-1)]: Done 100 out of 100 | elapsed:    3.8s finished\n",
            "/usr/local/lib/python3.6/dist-packages/sklearn/model_selection/_search.py:814: DeprecationWarning: The default of the `iid` parameter will change from True to False in version 0.22 and will be removed in 0.24. This will change numeric results when test-set sizes are unequal.\n",
            "  DeprecationWarning)\n"
          ],
          "name": "stderr"
        }
      ]
    }
  ]
}